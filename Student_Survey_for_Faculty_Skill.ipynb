{
  "nbformat": 4,
  "nbformat_minor": 0,
  "metadata": {
    "colab": {
      "provenance": []
    },
    "kernelspec": {
      "name": "python3",
      "display_name": "Python 3"
    },
    "language_info": {
      "name": "python"
    }
  },
  "cells": [
    {
      "cell_type": "code",
      "source": [
        "import pandas as pd\n",
        "import numpy as np\n",
        "from sklearn.linear_model import LinearRegression\n",
        "from sklearn.model_selection import train_test_split\n",
        "\n",
        "# Read in the data\n",
        "data = pd.read_csv('responses.csv')\n",
        "\n",
        "# Remove duplicates and incomplete entries\n",
        "data.drop_duplicates(inplace=True)\n",
        "data.dropna(inplace=True)\n",
        "\n",
        "# Convert data to numerical form\n",
        "data['Communication Skills'] = pd.to_numeric(data['Communication Skills'])\n",
        "data['Teaching Style'] = pd.to_numeric(data['Teaching Style'])\n",
        "data['Clarity of Explanation'] = pd.to_numeric(data['Clarity of Explanation'])\n",
        "data['Engagement Level'] = pd.to_numeric(data['Engagement Level'])\n",
        "data['Availability for Help'] = pd.to_numeric(data['Availability for Help'])\n",
        "data['Overall Rating'] = pd.to_numeric(data['Overall Rating'])\n",
        "\n",
        "# Split the data into training and testing sets\n",
        "X = data[['Communication Skills', 'Teaching Style', 'Clarity of Explanation', 'Engagement Level', 'Availability for Help']]\n",
        "y = data['Overall Rating']\n",
        "X_train, X_test, y_train, y_test = train_test_split(X, y, test_size=0.2, random_state=42)\n",
        "\n",
        "# Apply linear regression to the training data\n",
        "reg = LinearRegression()\n",
        "reg.fit(X_train, y_train)\n",
        "\n",
        "# Use the model to predict the overall rating for a new input\n",
        "new_data = {'Communication Skills': 8, 'Teaching Style': 7, 'Clarity of Explanation': 9, 'Engagement Level': 8, 'Availability for Help': 7}\n",
        "new_df = pd.DataFrame(new_data, index=[0])\n",
        "predicted_rating = reg.predict(new_df)\n",
        "print(predicted_rating[0])\n"
      ],
      "metadata": {
        "colab": {
          "base_uri": "https://localhost:8080/"
        },
        "id": "LaxIfpsM4sKO",
        "outputId": "3d59031d-be0a-40cc-87be-7cf7c69b0af2"
      },
      "execution_count": 14,
      "outputs": [
        {
          "output_type": "stream",
          "name": "stdout",
          "text": [
            "8.5\n"
          ]
        }
      ]
    },
    {
      "cell_type": "code",
      "source": [],
      "metadata": {
        "id": "HTYIkzVp4tBA"
      },
      "execution_count": null,
      "outputs": []
    }
  ]
}